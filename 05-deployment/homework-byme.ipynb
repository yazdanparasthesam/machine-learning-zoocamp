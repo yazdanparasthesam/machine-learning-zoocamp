Question 1
==========================================================
yazadanparast@RMT-YZPARAST-UBT:~/Documents$ mkdir hw5
yazadanparast@RMT-YZPARAST-UBT:~/Documents$ cd hw5/
yazadanparast@RMT-YZPARAST-UBT:~/Documents/hw5$ pip install uv
Defaulting to user installation because normal site-packages is not writeable
Collecting uv
  Downloading uv-0.9.5-py3-none-manylinux_2_17_x86_64.manylinux2014_x86_64.whl.metadata (11 kB)
Downloading uv-0.9.5-py3-none-manylinux_2_17_x86_64.manylinux2014_x86_64.whl (21.3 MB)
   ━━━━━━━━━━━━━━━━━━━━━━━━━━━━━━━━━━━━━━━━ 21.3/21.3 MB 7.2 MB/s eta 0:00:00
WARNING: Error parsing dependencies of django: [Errno 2] No such file or directory: '/home/yazadanparast/.local/lib/python3.10/site-packages/django-5.2.3.dist-info/METADATA'
WARNING: Error parsing dependencies of distro-info: Invalid version: '1.1build1'
WARNING: Error parsing dependencies of gpg: Invalid version: '1.16.0-unknown'
WARNING: Error parsing dependencies of python-debian: Invalid version: '0.1.43ubuntu1'
Installing collected packages: uv
Successfully installed uv-0.9.5

[notice] A new release of pip is available: 25.1.1 -> 25.3
[notice] To update, run: python3 -m pip install --upgrade pip
yazadanparast@RMT-YZPARAST-UBT:~/Documents/hw5$ uv --version
uv 0.9.5
yazadanparast@RMT-YZPARAST-UBT:~/Documents/hw5$ uv init
Initialized project `hw5`
yazadanparast@RMT-YZPARAST-UBT:~/Documents/hw5$ 
yazadanparast@RMT-YZPARAST-UBT:~/Documents/hw5$ 
yazadanparast@RMT-YZPARAST-UBT:~/Documents/hw5$ 

Question 2
==========================================================
yazadanparast@RMT-YZPARAST-UBT:~/Documents/hw5$ uv add scikit-learn==1.6.1
Using CPython 3.10.12 interpreter at: /usr/bin/python3.10
Creating virtual environment at: .venv
Resolved 8 packages in 1.04s
Installed 5 packages in 36ms
 + joblib==1.5.2
 + numpy==2.2.6
 + scikit-learn==1.6.1
 + scipy==1.15.3
 + threadpoolctl==3.6.0
yazadanparast@RMT-YZPARAST-UBT:~/Documents/hw5$ ll
total 112
drwxrwxr-x 3 yazadanparast yazadanparast  4096 Oct 28 10:23 ./
drwxr-xr-x 7 yazadanparast yazadanparast  4096 Oct 28 10:21 ../
-rw-rw-r-- 1 yazadanparast yazadanparast    81 Oct 28 10:21 main.py
-rw-rw-r-- 1 yazadanparast yazadanparast   177 Oct 28 10:23 pyproject.toml
-rw-rw-r-- 1 yazadanparast yazadanparast     5 Oct 28 10:21 .python-version
-rw-rw-r-- 1 yazadanparast yazadanparast     0 Oct 28 10:21 README.md
-rw-rw-r-- 1 yazadanparast yazadanparast 86132 Oct 28 10:23 uv.lock
drwxrwxr-x 4 yazadanparast yazadanparast  4096 Oct 28 10:23 .venv/

yazadanparast@RMT-YZPARAST-UBT:~/Documents/hw5$ grep -A 11 "scikit-learn" uv.lock
    { name = "scikit-learn" },
]

[package.metadata]
requires-dist = [{ name = "scikit-learn", specifier = "==1.6.1" }]

[[package]]
name = "joblib"
version = "1.5.2"
source = { registry = "https://pypi.org/simple" }
sdist = { url = "https://files.pythonhosted.org/packages/e8/5d/447af5ea094b9e4c4054f82e223ada074c552335b9b4b2d14bd9b35a67c4/joblib-1.5.2.tar.gz", hash = "sha256:3faa5c39054b2f03ca547da9b2f52fde67c06240c31853f306aea97f13647b55", size = 331077, upload-time = "2025-08-27T12:15:46.575Z" }
wheels = [
    { url = "https://files.pythonhosted.org/packages/1e/e8/685f47e0d754320684db4425a0967f7d3fa70126bffd76110b7009a0090f/joblib-1.5.2-py3-none-any.whl", hash = "sha256:4e1f0bdbb987e6d843c70cf43714cb276623def372df3c22fe5266b2670bc241", size = 308396, upload-time = "2025-08-27T12:15:45.188Z" },
]

[[package]]
--
name = "scikit-learn"
version = "1.6.1"
source = { registry = "https://pypi.org/simple" }
dependencies = [
    { name = "joblib" },
    { name = "numpy", version = "2.2.6", source = { registry = "https://pypi.org/simple" }, marker = "python_full_version < '3.11'" },
    { name = "numpy", version = "2.3.4", source = { registry = "https://pypi.org/simple" }, marker = "python_full_version >= '3.11'" },
    { name = "scipy", version = "1.15.3", source = { registry = "https://pypi.org/simple" }, marker = "python_full_version < '3.11'" },
    { name = "scipy", version = "1.16.2", source = { registry = "https://pypi.org/simple" }, marker = "python_full_version >= '3.11'" },
    { name = "threadpoolctl" },
]
sdist = { url = "https://files.pythonhosted.org/packages/9e/a5/4ae3b3a0755f7b35a280ac90b28817d1f380318973cff14075ab41ef50d9/scikit_learn-1.6.1.tar.gz", hash = "sha256:b4fc2525eca2c69a59260f583c56a7557c6ccdf8deafdba6e060f94c1c59738e", size = 7068312, upload-time = "2025-01-10T08:07:55.348Z" }
yazadanparast@RMT-YZPARAST-UBT:~/Documents/hw5$ 

Question 3
==========================================================
yazadanparast@RMT-YZPARAST-UBT:~/Documents/hw5$ wget https://github.com/DataTalksClub/machine-learning-zoomcamp/raw/refs/heads/master/cohorts/2025/05-deployment/pipeline_v1.bin
--2025-10-28 10:48:45--  https://github.com/DataTalksClub/machine-learning-zoomcamp/raw/refs/heads/master/cohorts/2025/05-deployment/pipeline_v1.bin
Resolving github.com (github.com)... 140.82.121.4
Connecting to github.com (github.com)|140.82.121.4|:443... connected.
HTTP request sent, awaiting response... 302 Found
Location: https://raw.githubusercontent.com/DataTalksClub/machine-learning-zoomcamp/refs/heads/master/cohorts/2025/05-deployment/pipeline_v1.bin [following]
--2025-10-28 10:48:46--  https://raw.githubusercontent.com/DataTalksClub/machine-learning-zoomcamp/refs/heads/master/cohorts/2025/05-deployment/pipeline_v1.bin
Resolving raw.githubusercontent.com (raw.githubusercontent.com)... 2606:50c0:8002::154, 2606:50c0:8003::154, 2606:50c0:8000::154, ...
Connecting to raw.githubusercontent.com (raw.githubusercontent.com)|2606:50c0:8002::154|:443... connected.
HTTP request sent, awaiting response... 200 OK
Length: 1300 (1.3K) [application/octet-stream]
Saving to: ‘pipeline_v1.bin’

pipeline_v1.bin                                    100%[================================================================================================================>]   1.27K  --.-KB/s    in 0s      

2025-10-28 10:48:47 (15.2 MB/s) - ‘pipeline_v1.bin’ saved [1300/1300]

yazadanparast@RMT-YZPARAST-UBT:~/Documents/hw5$ md5sum pipeline_v1.bin
7d17d2e4dfbaf1e408e1a62e6e880d49  pipeline_v1.bin
yazadanparast@RMT-YZPARAST-UBT:~/Documents/hw5$ 
yazadanparast@RMT-YZPARAST-UBT:~/Documents/hw5$ 
yazadanparast@RMT-YZPARAST-UBT:~/Documents/hw5$ 
yazadanparast@RMT-YZPARAST-UBT:~/Documents/hw5$ 
yazadanparast@RMT-YZPARAST-UBT:~/Documents/hw5$ 
yazadanparast@RMT-YZPARAST-UBT:~/Documents/hw5$ vim main.py
yazadanparast@RMT-YZPARAST-UBT:~/Documents/hw5$ python main.py
Command 'python' not found, did you mean:
  command 'python3' from deb python3
  command 'python' from deb python-is-python3
yazadanparast@RMT-YZPARAST-UBT:~/Documents/hw5$ python3 main.py
/home/yazadanparast/.local/lib/python3.10/site-packages/sklearn/base.py:442: InconsistentVersionWarning: Trying to unpickle estimator DictVectorizer from version 1.6.1 when using version 1.7.1. This might lead to breaking code or invalid results. Use at your own risk. For more info please refer to:
https://scikit-learn.org/stable/model_persistence.html#security-maintainability-limitations
  warnings.warn(
/home/yazadanparast/.local/lib/python3.10/site-packages/sklearn/base.py:442: InconsistentVersionWarning: Trying to unpickle estimator LogisticRegression from version 1.6.1 when using version 1.7.1. This might lead to breaking code or invalid results. Use at your own risk. For more info please refer to:
https://scikit-learn.org/stable/model_persistence.html#security-maintainability-limitations
  warnings.warn(
/home/yazadanparast/.local/lib/python3.10/site-packages/sklearn/base.py:442: InconsistentVersionWarning: Trying to unpickle estimator Pipeline from version 1.6.1 when using version 1.7.1. This might lead to breaking code or invalid results. Use at your own risk. For more info please refer to:
https://scikit-learn.org/stable/model_persistence.html#security-maintainability-limitations
  warnings.warn(
0.5336072702798061
yazadanparast@RMT-YZPARAST-UBT:~/Documents/hw5$

Question 4
==========================================================
