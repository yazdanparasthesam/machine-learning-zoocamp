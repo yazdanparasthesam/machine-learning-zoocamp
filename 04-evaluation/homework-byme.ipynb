{
 "cells": [
  {
   "cell_type": "markdown",
   "id": "11e8538a",
   "metadata": {},
   "source": [
    "Data preparation\n"
   ]
  },
  {
   "cell_type": "code",
   "execution_count": null,
   "id": "3e88fe0e",
   "metadata": {},
   "outputs": [],
   "source": [
    "import pandas as pd\n",
    "import numpy as np\n",
    "from sklearn.model_selection import train_test_split\n",
    "from sklearn.feature_extraction import DictVectorizer\n",
    "from sklearn.linear_model import LogisticRegression\n",
    "from sklearn.metrics import roc_auc_score\n",
    "\n",
    "# ---------------------------------------\n",
    "# STEP 1: LOAD & PREPARE DATA\n",
    "# ---------------------------------------\n",
    "df = pd.read_csv('https://raw.githubusercontent.com/alexeygrigorev/datasets/master/course_lead_scoring.csv')\n",
    "\n",
    "target = 'converted'\n",
    "\n",
    "# Identify features\n",
    "categorical = ['industry', 'employment_status', 'lead_source', 'location']\n",
    "numerical = ['lead_score', 'number_of_courses_viewed', 'interaction_count', 'annual_income']\n",
    "\n",
    "# Fill missing values\n",
    "df[categorical] = df[categorical].fillna('NA')\n",
    "df[numerical] = df[numerical].fillna(0.0)\n",
    "\n",
    "# Split into train/val/test (60/20/20)\n",
    "df_full_train, df_test = train_test_split(df, test_size=0.2, random_state=1, stratify=df[target])\n",
    "df_train, df_val = train_test_split(df_full_train, test_size=0.25, random_state=1, stratify=df_full_train[target])\n",
    "\n",
    "y_train = df_train[target].astype(int)"
   ]
  },
  {
   "cell_type": "markdown",
   "id": "b7d3bd98",
   "metadata": {},
   "source": [
    "Question1"
   ]
  },
  {
   "cell_type": "code",
   "execution_count": 54,
   "id": "a08adb86",
   "metadata": {},
   "outputs": [
    {
     "name": "stdout",
     "output_type": "stream",
     "text": [
      "lead_score                -> AUC: 0.618\n",
      "number_of_courses_viewed  -> AUC: 0.752\n",
      "interaction_count         -> AUC: 0.706\n",
      "annual_income             -> AUC: 0.567\n",
      "\n",
      "Best numerical feature by AUC: number_of_courses_viewed (0.752)\n"
     ]
    }
   ],
   "source": [
    "# ---------------------------------------\n",
    "# STEP 2: ROC AUC for each numerical feature\n",
    "# ---------------------------------------\n",
    "from sklearn.metrics import roc_auc_score\n",
    "\n",
    "auc_scores = {}\n",
    "\n",
    "for col in numerical:\n",
    "    scores = df_train[col]\n",
    "    auc = roc_auc_score(y_train, scores)\n",
    "    \n",
    "    # If AUC < 0.5, invert the variable\n",
    "    if auc < 0.5:\n",
    "        auc = roc_auc_score(y_train, -scores)\n",
    "    \n",
    "    auc_scores[col] = auc\n",
    "    print(f\"{col:25s} -> AUC: {auc:.3f}\")\n",
    "\n",
    "# ---------------------------------------\n",
    "# STEP 3: Identify best feature\n",
    "# ---------------------------------------\n",
    "best_feature = max(auc_scores, key=auc_scores.get)\n",
    "print(f\"\\nBest numerical feature by AUC: {best_feature} ({auc_scores[best_feature]:.3f})\")\n"
   ]
  },
  {
   "cell_type": "code",
   "execution_count": null,
   "id": "4a487771",
   "metadata": {},
   "outputs": [
    {
     "data": {
      "text/plain": [
       "0.9"
      ]
     },
     "execution_count": 58,
     "metadata": {},
     "output_type": "execute_result"
    }
   ],
   "source": []
  },
  {
   "cell_type": "markdown",
   "id": "c715b029",
   "metadata": {},
   "source": [
    "Question2"
   ]
  },
  {
   "cell_type": "code",
   "execution_count": 59,
   "id": "822fd953",
   "metadata": {},
   "outputs": [
    {
     "data": {
      "text/plain": [
       "0.9"
      ]
     },
     "execution_count": 59,
     "metadata": {},
     "output_type": "execute_result"
    }
   ],
   "source": [
    "# Identify categorical and numerical columns\n",
    "categorical = df_train.select_dtypes(include='object').columns.tolist()\n",
    "numerical = ['lead_score', 'number_of_courses_viewed', 'interaction_count', 'annual_income']\n",
    "features = categorical + numerical\n",
    "\n",
    "# Fill missing values\n",
    "for col in categorical:\n",
    "    df_train[col] = df_train[col].fillna('NA')\n",
    "    df_val[col] = df_val[col].fillna('NA')\n",
    "\n",
    "for col in numerical:\n",
    "    df_train[col] = pd.to_numeric(df_train[col], errors='coerce').fillna(0.0)\n",
    "    df_val[col] = pd.to_numeric(df_val[col], errors='coerce').fillna(0.0)\n",
    "\n",
    "# Convert to dict for DictVectorizer\n",
    "train_dict = df_train[features].to_dict(orient='records')\n",
    "val_dict = df_val[features].to_dict(orient='records')\n",
    "\n",
    "# One-hot encoding\n",
    "dv = DictVectorizer(sparse=False)\n",
    "X_train = dv.fit_transform(train_dict)\n",
    "X_val = dv.transform(val_dict)\n",
    "\n",
    "# Train logistic regression\n",
    "model = LogisticRegression(solver='liblinear', C=1.0, max_iter=1000)\n",
    "model.fit(X_train, df_train['converted'].values)\n",
    "\n",
    "# Predict and compute AUC\n",
    "y_pred = model.predict_proba(X_val)[:, 1]\n",
    "auc = roc_auc_score(df_val['converted'].values, y_pred)\n",
    "round(auc, 3)\n"
   ]
  },
  {
   "cell_type": "markdown",
   "id": "885abf19",
   "metadata": {},
   "source": [
    "Question3"
   ]
  },
  {
   "cell_type": "code",
   "execution_count": 61,
   "id": "ac52f9bd",
   "metadata": {},
   "outputs": [
    {
     "data": {
      "image/png": "[encoded data removed]",
      "text/plain": [
       "<Figure size 600x400 with 1 Axes>"
      ]
     },
     "metadata": {},
     "output_type": "display_data"
    },
    {
     "data": {
      "text/plain": [
       "0.62"
      ]
     },
     "execution_count": 61,
     "metadata": {},
     "output_type": "execute_result"
    }
   ],
   "source": [
    "import numpy as np\n",
    "from sklearn.metrics import precision_score, recall_score\n",
    "import matplotlib.pyplot as plt\n",
    "\n",
    "thresholds = np.arange(0.0, 1.01, 0.01)\n",
    "precisions = []\n",
    "recalls = []\n",
    "\n",
    "y_true = df_val['converted'].values\n",
    "\n",
    "for t in thresholds:\n",
    "    y_pred_label = (y_pred >= t).astype(int)\n",
    "    precisions.append(precision_score(y_true, y_pred_label, zero_division=1))\n",
    "    recalls.append(recall_score(y_true, y_pred_label))\n",
    "\n",
    "# Plot\n",
    "plt.figure(figsize=(6,4))\n",
    "plt.plot(thresholds, precisions, label='Precision')\n",
    "plt.plot(thresholds, recalls, label='Recall')\n",
    "plt.xlabel('Threshold')\n",
    "plt.ylabel('Score')\n",
    "plt.legend()\n",
    "plt.show()\n",
    "\n",
    "# Find threshold where precision and recall are closest\n",
    "diff = np.abs(np.array(precisions) - np.array(recalls))\n",
    "best_threshold = thresholds[np.argmin(diff)]\n",
    "best_threshold\n"
   ]
  },
  {
   "cell_type": "markdown",
   "id": "ceb9c0df",
   "metadata": {},
   "source": [
    "Question4"
   ]
  },
  {
   "cell_type": "code",
   "execution_count": 62,
   "id": "26856942",
   "metadata": {},
   "outputs": [
    {
     "name": "stdout",
     "output_type": "stream",
     "text": [
      "Max F1: 0.8629441624365481\n",
      "Threshold for max F1: 0.6\n"
     ]
    }
   ],
   "source": [
    "import numpy as np\n",
    "from sklearn.metrics import precision_score, recall_score\n",
    "\n",
    "thresholds = np.arange(0, 1.01, 0.01)\n",
    "f1_scores = []\n",
    "\n",
    "for t in thresholds:\n",
    "    y_pred_label = (y_pred >= t).astype(int)  # y_pred from your model\n",
    "    P = precision_score(y_val, y_pred_label, zero_division=0)\n",
    "    R = recall_score(y_val, y_pred_label, zero_division=0)\n",
    "    \n",
    "    if P + R == 0:\n",
    "        f1 = 0\n",
    "    else:\n",
    "        f1 = 2 * P * R / (P + R)\n",
    "    \n",
    "    f1_scores.append(f1)\n",
    "\n",
    "f1_scores = np.array(f1_scores)\n",
    "best_idx = f1_scores.argmax()\n",
    "best_threshold = thresholds[best_idx]\n",
    "\n",
    "print(\"Max F1:\", f1_scores[best_idx])\n",
    "print(\"Threshold for max F1:\", best_threshold)\n"
   ]
  },
  {
   "cell_type": "markdown",
   "id": "eb0b052d",
   "metadata": {},
   "source": [
    "Question5"
   ]
  },
  {
   "cell_type": "code",
   "execution_count": 63,
   "id": "8ea510d6",
   "metadata": {},
   "outputs": [
    {
     "name": "stdout",
     "output_type": "stream",
     "text": [
      "AUC scores per fold: [0.80125302 0.83748443 0.86160714 0.77801587 0.8060946 ]\n",
      "Mean AUC: 0.8168910142722202\n",
      "Std of AUC: 0.029312137624452266\n"
     ]
    }
   ],
   "source": [
    "from sklearn.model_selection import KFold\n",
    "from sklearn.linear_model import LogisticRegression\n",
    "from sklearn.feature_extraction import DictVectorizer\n",
    "from sklearn.metrics import roc_auc_score\n",
    "import numpy as np\n",
    "\n",
    "def train(df_train, y_train, C=1.0):\n",
    "    dicts = df_train[categorical + numerical].to_dict(orient='records')\n",
    "    dv = DictVectorizer(sparse=False)\n",
    "    X_train = dv.fit_transform(dicts)\n",
    "    model = LogisticRegression(solver='liblinear', C=C, max_iter=1000)\n",
    "    model.fit(X_train, y_train)\n",
    "    return dv, model\n",
    "\n",
    "def predict(df, dv, model):\n",
    "    dicts = df[categorical + numerical].to_dict(orient='records')\n",
    "    X = dv.transform(dicts)\n",
    "    return model.predict_proba(X)[:, 1]\n",
    "\n",
    "# 5-Fold CV\n",
    "kf = KFold(n_splits=5, shuffle=True, random_state=1)\n",
    "scores = []\n",
    "\n",
    "for train_idx, val_idx in kf.split(df_full_train):\n",
    "    df_train = df_full_train.iloc[train_idx]\n",
    "    df_val = df_full_train.iloc[val_idx]\n",
    "    \n",
    "    y_train = df_train['converted'].values  # replace 'converted' with your target column\n",
    "    y_val = df_val['converted'].values\n",
    "    \n",
    "    dv, model = train(df_train, y_train, C=1.0)\n",
    "    y_pred = predict(df_val, dv, model)\n",
    "    \n",
    "    auc = roc_auc_score(y_val, y_pred)\n",
    "    scores.append(auc)\n",
    "\n",
    "scores = np.array(scores)\n",
    "print(\"AUC scores per fold:\", scores)\n",
    "print(\"Mean AUC:\", scores.mean())\n",
    "print(\"Std of AUC:\", scores.std())\n"
   ]
  },
  {
   "cell_type": "markdown",
   "id": "537e61b5",
   "metadata": {},
   "source": [
    "Question6"
   ]
  },
  {
   "cell_type": "code",
   "execution_count": 64,
   "id": "b96fe917",
   "metadata": {},
   "outputs": [
    {
     "name": "stdout",
     "output_type": "stream",
     "text": [
      "C=1e-06, mean AUC=0.561, std=0.035\n",
      "C=0.001, mean AUC=0.86, std=0.026\n",
      "C=1, mean AUC=0.817, std=0.029\n"
     ]
    }
   ],
   "source": [
    "from sklearn.model_selection import KFold\n",
    "from sklearn.linear_model import LogisticRegression\n",
    "from sklearn.feature_extraction import DictVectorizer\n",
    "from sklearn.metrics import roc_auc_score\n",
    "import numpy as np\n",
    "\n",
    "C_values = [0.000001, 0.001, 1]\n",
    "kf = KFold(n_splits=5, shuffle=True, random_state=1)\n",
    "\n",
    "results = []\n",
    "\n",
    "for C in C_values:\n",
    "    scores = []\n",
    "    for train_idx, val_idx in kf.split(df_full_train):\n",
    "        df_train = df_full_train.iloc[train_idx]\n",
    "        df_val = df_full_train.iloc[val_idx]\n",
    "        \n",
    "        y_train = df_train['converted'].values  # replace with your target\n",
    "        y_val = df_val['converted'].values\n",
    "        \n",
    "        dicts = df_train[categorical + numerical].to_dict(orient='records')\n",
    "        dv = DictVectorizer(sparse=False)\n",
    "        X_train = dv.fit_transform(dicts)\n",
    "        \n",
    "        model = LogisticRegression(solver='liblinear', C=C, max_iter=1000)\n",
    "        model.fit(X_train, y_train)\n",
    "        \n",
    "        X_val = dv.transform(df_val[categorical + numerical].to_dict(orient='records'))\n",
    "        y_pred = model.predict_proba(X_val)[:, 1]\n",
    "        scores.append(roc_auc_score(y_val, y_pred))\n",
    "    \n",
    "    mean_score = round(np.mean(scores), 3)\n",
    "    std_score = round(np.std(scores), 3)\n",
    "    results.append((C, mean_score, std_score))\n",
    "\n",
    "for C, mean_score, std_score in results:\n",
    "    print(f\"C={C}, mean AUC={mean_score}, std={std_score}\")\n"
   ]
  }
 ],
 "metadata": {
  "kernelspec": {
   "display_name": "Python 3",
   "language": "python",
   "name": "python3"
  },
  "language_info": {
   "codemirror_mode": {
    "name": "ipython",
    "version": 3
   },
   "file_extension": ".py",
   "mimetype": "text/x-python",
   "name": "python",
   "nbconvert_exporter": "python",
   "pygments_lexer": "ipython3",
   "version": "3.10.12"
  }
 },
 "nbformat": 4,
 "nbformat_minor": 5
}
